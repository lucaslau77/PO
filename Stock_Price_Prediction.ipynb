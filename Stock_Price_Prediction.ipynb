{
  "nbformat": 4,
  "nbformat_minor": 0,
  "metadata": {
    "colab": {
      "name": "Stock_Price_Prediction.ipynb",
      "provenance": [],
      "collapsed_sections": [],
      "authorship_tag": "ABX9TyOVAKpAkNCyWltX2d9KWuPm",
      "include_colab_link": true
    },
    "kernelspec": {
      "name": "python3",
      "display_name": "Python 3"
    },
    "language_info": {
      "name": "python"
    }
  },
  "cells": [
    {
      "cell_type": "markdown",
      "metadata": {
        "id": "view-in-github",
        "colab_type": "text"
      },
      "source": [
        "<a href=\"https://colab.research.google.com/github/lucaslau77/PO/blob/main/Stock_Price_Prediction.ipynb\" target=\"_parent\"><img src=\"https://colab.research.google.com/assets/colab-badge.svg\" alt=\"Open In Colab\"/></a>"
      ]
    },
    {
      "cell_type": "code",
      "metadata": {
        "id": "8ZBQw0UTUATS"
      },
      "source": [
        "# Import libraries\n",
        "from pandas_datareader import data as web\n",
        "import pandas as pd\n",
        "import numpy as np\n",
        "from datetime import datetime\n",
        "from sklearn.linear_model import LinearRegression\n",
        "from sklearn.model_selection import train_test_split"
      ],
      "execution_count": 43,
      "outputs": []
    },
    {
      "cell_type": "code",
      "metadata": {
        "id": "S4LFQZWQTktJ"
      },
      "source": [
        "# Get ticker symbol\n",
        "ticker =  \"WYNN\"\n",
        "\n",
        "# Create a variable for predicting 'n' days out into the future\n",
        "projection = 14"
      ],
      "execution_count": 44,
      "outputs": []
    },
    {
      "cell_type": "code",
      "metadata": {
        "id": "UniaEOmkT0of"
      },
      "source": [
        "# Get the price starting date\n",
        "StartDate = '2013-01-01'\n",
        "\n",
        "# Get the price ending date\n",
        "today = datetime.today().strftime('%Y-%m-%d')"
      ],
      "execution_count": 45,
      "outputs": []
    },
    {
      "cell_type": "code",
      "metadata": {
        "colab": {
          "base_uri": "https://localhost:8080/",
          "height": 450
        },
        "id": "MZLnUhaxT69n",
        "outputId": "91bf913c-617c-4b47-8944-13fee0fade0c"
      },
      "source": [
        "# Create a dataframe to store the adjusted close price of stock\n",
        "df = pd.DataFrame()\n",
        "\n",
        "# Store the adjusted close price of stock into df\n",
        "df = web.DataReader(ticker, data_source='yahoo', start=StartDate, end=today)\n",
        "\n",
        "# Show the df\n",
        "df"
      ],
      "execution_count": 46,
      "outputs": [
        {
          "output_type": "execute_result",
          "data": {
            "text/html": [
              "<div>\n",
              "<style scoped>\n",
              "    .dataframe tbody tr th:only-of-type {\n",
              "        vertical-align: middle;\n",
              "    }\n",
              "\n",
              "    .dataframe tbody tr th {\n",
              "        vertical-align: top;\n",
              "    }\n",
              "\n",
              "    .dataframe thead th {\n",
              "        text-align: right;\n",
              "    }\n",
              "</style>\n",
              "<table border=\"1\" class=\"dataframe\">\n",
              "  <thead>\n",
              "    <tr style=\"text-align: right;\">\n",
              "      <th></th>\n",
              "      <th>High</th>\n",
              "      <th>Low</th>\n",
              "      <th>Open</th>\n",
              "      <th>Close</th>\n",
              "      <th>Volume</th>\n",
              "      <th>Adj Close</th>\n",
              "    </tr>\n",
              "    <tr>\n",
              "      <th>Date</th>\n",
              "      <th></th>\n",
              "      <th></th>\n",
              "      <th></th>\n",
              "      <th></th>\n",
              "      <th></th>\n",
              "      <th></th>\n",
              "    </tr>\n",
              "  </thead>\n",
              "  <tbody>\n",
              "    <tr>\n",
              "      <th>2013-01-02</th>\n",
              "      <td>119.019997</td>\n",
              "      <td>115.879997</td>\n",
              "      <td>116.370003</td>\n",
              "      <td>118.070000</td>\n",
              "      <td>2487000.0</td>\n",
              "      <td>96.279900</td>\n",
              "    </tr>\n",
              "    <tr>\n",
              "      <th>2013-01-03</th>\n",
              "      <td>121.059998</td>\n",
              "      <td>118.339996</td>\n",
              "      <td>118.570000</td>\n",
              "      <td>119.339996</td>\n",
              "      <td>1731900.0</td>\n",
              "      <td>97.315514</td>\n",
              "    </tr>\n",
              "    <tr>\n",
              "      <th>2013-01-04</th>\n",
              "      <td>122.209999</td>\n",
              "      <td>119.400002</td>\n",
              "      <td>119.930000</td>\n",
              "      <td>120.779999</td>\n",
              "      <td>2129100.0</td>\n",
              "      <td>98.489761</td>\n",
              "    </tr>\n",
              "    <tr>\n",
              "      <th>2013-01-07</th>\n",
              "      <td>121.989998</td>\n",
              "      <td>120.260002</td>\n",
              "      <td>120.730003</td>\n",
              "      <td>121.190002</td>\n",
              "      <td>1501000.0</td>\n",
              "      <td>98.824097</td>\n",
              "    </tr>\n",
              "    <tr>\n",
              "      <th>2013-01-08</th>\n",
              "      <td>121.879997</td>\n",
              "      <td>119.830002</td>\n",
              "      <td>121.040001</td>\n",
              "      <td>121.089996</td>\n",
              "      <td>976300.0</td>\n",
              "      <td>98.742554</td>\n",
              "    </tr>\n",
              "    <tr>\n",
              "      <th>...</th>\n",
              "      <td>...</td>\n",
              "      <td>...</td>\n",
              "      <td>...</td>\n",
              "      <td>...</td>\n",
              "      <td>...</td>\n",
              "      <td>...</td>\n",
              "    </tr>\n",
              "    <tr>\n",
              "      <th>2021-06-11</th>\n",
              "      <td>127.269997</td>\n",
              "      <td>124.769997</td>\n",
              "      <td>126.239998</td>\n",
              "      <td>127.169998</td>\n",
              "      <td>1205800.0</td>\n",
              "      <td>127.169998</td>\n",
              "    </tr>\n",
              "    <tr>\n",
              "      <th>2021-06-14</th>\n",
              "      <td>127.519997</td>\n",
              "      <td>123.900002</td>\n",
              "      <td>127.199997</td>\n",
              "      <td>124.949997</td>\n",
              "      <td>3051900.0</td>\n",
              "      <td>124.949997</td>\n",
              "    </tr>\n",
              "    <tr>\n",
              "      <th>2021-06-15</th>\n",
              "      <td>126.209999</td>\n",
              "      <td>124.570000</td>\n",
              "      <td>124.949997</td>\n",
              "      <td>125.400002</td>\n",
              "      <td>1658200.0</td>\n",
              "      <td>125.400002</td>\n",
              "    </tr>\n",
              "    <tr>\n",
              "      <th>2021-06-16</th>\n",
              "      <td>126.180000</td>\n",
              "      <td>123.720001</td>\n",
              "      <td>125.120003</td>\n",
              "      <td>125.449997</td>\n",
              "      <td>1621900.0</td>\n",
              "      <td>125.449997</td>\n",
              "    </tr>\n",
              "    <tr>\n",
              "      <th>2021-06-17</th>\n",
              "      <td>129.320007</td>\n",
              "      <td>124.511002</td>\n",
              "      <td>125.760002</td>\n",
              "      <td>125.300003</td>\n",
              "      <td>2281220.0</td>\n",
              "      <td>125.300003</td>\n",
              "    </tr>\n",
              "  </tbody>\n",
              "</table>\n",
              "<p>2130 rows × 6 columns</p>\n",
              "</div>"
            ],
            "text/plain": [
              "                  High         Low  ...     Volume   Adj Close\n",
              "Date                                ...                       \n",
              "2013-01-02  119.019997  115.879997  ...  2487000.0   96.279900\n",
              "2013-01-03  121.059998  118.339996  ...  1731900.0   97.315514\n",
              "2013-01-04  122.209999  119.400002  ...  2129100.0   98.489761\n",
              "2013-01-07  121.989998  120.260002  ...  1501000.0   98.824097\n",
              "2013-01-08  121.879997  119.830002  ...   976300.0   98.742554\n",
              "...                ...         ...  ...        ...         ...\n",
              "2021-06-11  127.269997  124.769997  ...  1205800.0  127.169998\n",
              "2021-06-14  127.519997  123.900002  ...  3051900.0  124.949997\n",
              "2021-06-15  126.209999  124.570000  ...  1658200.0  125.400002\n",
              "2021-06-16  126.180000  123.720001  ...  1621900.0  125.449997\n",
              "2021-06-17  129.320007  124.511002  ...  2281220.0  125.300003\n",
              "\n",
              "[2130 rows x 6 columns]"
            ]
          },
          "metadata": {
            "tags": []
          },
          "execution_count": 46
        }
      ]
    },
    {
      "cell_type": "code",
      "metadata": {
        "colab": {
          "base_uri": "https://localhost:8080/",
          "height": 450
        },
        "id": "DQF1vK_nWcdl",
        "outputId": "1dd95ac3-67fe-4334-836c-a2f9cdb83a4d"
      },
      "source": [
        "# Create a new column called prediction\n",
        "df['Prediction'] = df[['Close']].shift(-projection)\n",
        "df"
      ],
      "execution_count": 47,
      "outputs": [
        {
          "output_type": "execute_result",
          "data": {
            "text/html": [
              "<div>\n",
              "<style scoped>\n",
              "    .dataframe tbody tr th:only-of-type {\n",
              "        vertical-align: middle;\n",
              "    }\n",
              "\n",
              "    .dataframe tbody tr th {\n",
              "        vertical-align: top;\n",
              "    }\n",
              "\n",
              "    .dataframe thead th {\n",
              "        text-align: right;\n",
              "    }\n",
              "</style>\n",
              "<table border=\"1\" class=\"dataframe\">\n",
              "  <thead>\n",
              "    <tr style=\"text-align: right;\">\n",
              "      <th></th>\n",
              "      <th>High</th>\n",
              "      <th>Low</th>\n",
              "      <th>Open</th>\n",
              "      <th>Close</th>\n",
              "      <th>Volume</th>\n",
              "      <th>Adj Close</th>\n",
              "      <th>Prediction</th>\n",
              "    </tr>\n",
              "    <tr>\n",
              "      <th>Date</th>\n",
              "      <th></th>\n",
              "      <th></th>\n",
              "      <th></th>\n",
              "      <th></th>\n",
              "      <th></th>\n",
              "      <th></th>\n",
              "      <th></th>\n",
              "    </tr>\n",
              "  </thead>\n",
              "  <tbody>\n",
              "    <tr>\n",
              "      <th>2013-01-02</th>\n",
              "      <td>119.019997</td>\n",
              "      <td>115.879997</td>\n",
              "      <td>116.370003</td>\n",
              "      <td>118.070000</td>\n",
              "      <td>2487000.0</td>\n",
              "      <td>96.279900</td>\n",
              "      <td>123.129997</td>\n",
              "    </tr>\n",
              "    <tr>\n",
              "      <th>2013-01-03</th>\n",
              "      <td>121.059998</td>\n",
              "      <td>118.339996</td>\n",
              "      <td>118.570000</td>\n",
              "      <td>119.339996</td>\n",
              "      <td>1731900.0</td>\n",
              "      <td>97.315514</td>\n",
              "      <td>122.680000</td>\n",
              "    </tr>\n",
              "    <tr>\n",
              "      <th>2013-01-04</th>\n",
              "      <td>122.209999</td>\n",
              "      <td>119.400002</td>\n",
              "      <td>119.930000</td>\n",
              "      <td>120.779999</td>\n",
              "      <td>2129100.0</td>\n",
              "      <td>98.489761</td>\n",
              "      <td>123.930000</td>\n",
              "    </tr>\n",
              "    <tr>\n",
              "      <th>2013-01-07</th>\n",
              "      <td>121.989998</td>\n",
              "      <td>120.260002</td>\n",
              "      <td>120.730003</td>\n",
              "      <td>121.190002</td>\n",
              "      <td>1501000.0</td>\n",
              "      <td>98.824097</td>\n",
              "      <td>123.540001</td>\n",
              "    </tr>\n",
              "    <tr>\n",
              "      <th>2013-01-08</th>\n",
              "      <td>121.879997</td>\n",
              "      <td>119.830002</td>\n",
              "      <td>121.040001</td>\n",
              "      <td>121.089996</td>\n",
              "      <td>976300.0</td>\n",
              "      <td>98.742554</td>\n",
              "      <td>122.389999</td>\n",
              "    </tr>\n",
              "    <tr>\n",
              "      <th>...</th>\n",
              "      <td>...</td>\n",
              "      <td>...</td>\n",
              "      <td>...</td>\n",
              "      <td>...</td>\n",
              "      <td>...</td>\n",
              "      <td>...</td>\n",
              "      <td>...</td>\n",
              "    </tr>\n",
              "    <tr>\n",
              "      <th>2021-06-11</th>\n",
              "      <td>127.269997</td>\n",
              "      <td>124.769997</td>\n",
              "      <td>126.239998</td>\n",
              "      <td>127.169998</td>\n",
              "      <td>1205800.0</td>\n",
              "      <td>127.169998</td>\n",
              "      <td>NaN</td>\n",
              "    </tr>\n",
              "    <tr>\n",
              "      <th>2021-06-14</th>\n",
              "      <td>127.519997</td>\n",
              "      <td>123.900002</td>\n",
              "      <td>127.199997</td>\n",
              "      <td>124.949997</td>\n",
              "      <td>3051900.0</td>\n",
              "      <td>124.949997</td>\n",
              "      <td>NaN</td>\n",
              "    </tr>\n",
              "    <tr>\n",
              "      <th>2021-06-15</th>\n",
              "      <td>126.209999</td>\n",
              "      <td>124.570000</td>\n",
              "      <td>124.949997</td>\n",
              "      <td>125.400002</td>\n",
              "      <td>1658200.0</td>\n",
              "      <td>125.400002</td>\n",
              "      <td>NaN</td>\n",
              "    </tr>\n",
              "    <tr>\n",
              "      <th>2021-06-16</th>\n",
              "      <td>126.180000</td>\n",
              "      <td>123.720001</td>\n",
              "      <td>125.120003</td>\n",
              "      <td>125.449997</td>\n",
              "      <td>1621900.0</td>\n",
              "      <td>125.449997</td>\n",
              "      <td>NaN</td>\n",
              "    </tr>\n",
              "    <tr>\n",
              "      <th>2021-06-17</th>\n",
              "      <td>129.320007</td>\n",
              "      <td>124.511002</td>\n",
              "      <td>125.760002</td>\n",
              "      <td>125.300003</td>\n",
              "      <td>2281220.0</td>\n",
              "      <td>125.300003</td>\n",
              "      <td>NaN</td>\n",
              "    </tr>\n",
              "  </tbody>\n",
              "</table>\n",
              "<p>2130 rows × 7 columns</p>\n",
              "</div>"
            ],
            "text/plain": [
              "                  High         Low  ...   Adj Close  Prediction\n",
              "Date                                ...                        \n",
              "2013-01-02  119.019997  115.879997  ...   96.279900  123.129997\n",
              "2013-01-03  121.059998  118.339996  ...   97.315514  122.680000\n",
              "2013-01-04  122.209999  119.400002  ...   98.489761  123.930000\n",
              "2013-01-07  121.989998  120.260002  ...   98.824097  123.540001\n",
              "2013-01-08  121.879997  119.830002  ...   98.742554  122.389999\n",
              "...                ...         ...  ...         ...         ...\n",
              "2021-06-11  127.269997  124.769997  ...  127.169998         NaN\n",
              "2021-06-14  127.519997  123.900002  ...  124.949997         NaN\n",
              "2021-06-15  126.209999  124.570000  ...  125.400002         NaN\n",
              "2021-06-16  126.180000  123.720001  ...  125.449997         NaN\n",
              "2021-06-17  129.320007  124.511002  ...  125.300003         NaN\n",
              "\n",
              "[2130 rows x 7 columns]"
            ]
          },
          "metadata": {
            "tags": []
          },
          "execution_count": 47
        }
      ]
    },
    {
      "cell_type": "code",
      "metadata": {
        "colab": {
          "base_uri": "https://localhost:8080/"
        },
        "id": "tMW7LOz8XgtH",
        "outputId": "165577c4-8585-4a05-96ae-cc1e106b2286"
      },
      "source": [
        "# Create the independent data set (x)\n",
        "X = np.array(df[['Close']])\n",
        "\n",
        "# Remove the last n rows\n",
        "X = X[:-projection]\n",
        "print(X)"
      ],
      "execution_count": 48,
      "outputs": [
        {
          "output_type": "stream",
          "text": [
            "[[118.06999969]\n",
            " [119.33999634]\n",
            " [120.77999878]\n",
            " ...\n",
            " [129.02999878]\n",
            " [132.44999695]\n",
            " [132.66999817]]\n"
          ],
          "name": "stdout"
        }
      ]
    },
    {
      "cell_type": "code",
      "metadata": {
        "colab": {
          "base_uri": "https://localhost:8080/"
        },
        "id": "vbzdI99AYFY3",
        "outputId": "d319328e-3621-4251-9a1d-40341778398f"
      },
      "source": [
        "# Create the dependent data set (y)\n",
        "y = df['Prediction'].values\n",
        "y = y[:-projection]\n",
        "print(y)"
      ],
      "execution_count": 49,
      "outputs": [
        {
          "output_type": "stream",
          "text": [
            "[123.12999725 122.68000031 123.93000031 ... 125.40000153 125.44999695\n",
            " 125.30000305]\n"
          ],
          "name": "stdout"
        }
      ]
    },
    {
      "cell_type": "code",
      "metadata": {
        "id": "b6aeb2H8YZMV"
      },
      "source": [
        "# Split the data into 85% training and 15% testing datasets\n",
        "x_train, x_test, y_train, y_test = train_test_split(X, y, test_size = .15)"
      ],
      "execution_count": 50,
      "outputs": []
    },
    {
      "cell_type": "code",
      "metadata": {
        "colab": {
          "base_uri": "https://localhost:8080/"
        },
        "id": "4QCVyq5fYps-",
        "outputId": "51677b59-9ac4-427d-b46c-039b43253f5e"
      },
      "source": [
        "# Create and train the model\n",
        "linReg = LinearRegression()\n",
        "\n",
        "# Train the model\n",
        "linReg.fit(x_train, y_train)"
      ],
      "execution_count": 51,
      "outputs": [
        {
          "output_type": "execute_result",
          "data": {
            "text/plain": [
              "LinearRegression(copy_X=True, fit_intercept=True, n_jobs=None, normalize=False)"
            ]
          },
          "metadata": {
            "tags": []
          },
          "execution_count": 51
        }
      ]
    },
    {
      "cell_type": "code",
      "metadata": {
        "colab": {
          "base_uri": "https://localhost:8080/"
        },
        "id": "VFIl-OmGYzFr",
        "outputId": "a87bb966-e7e9-4cdd-bc41-3fe3378e8bb7"
      },
      "source": [
        "# Test the model using score\n",
        "linReg_confidence = linReg.score(x_test, y_test)\n",
        "print('Linear Regression Confidence:', linReg_confidence)"
      ],
      "execution_count": 52,
      "outputs": [
        {
          "output_type": "stream",
          "text": [
            "Linear Regression Confidence: 0.8961097003660263\n"
          ],
          "name": "stdout"
        }
      ]
    },
    {
      "cell_type": "code",
      "metadata": {
        "colab": {
          "base_uri": "https://localhost:8080/"
        },
        "id": "swmhS0wHZMbH",
        "outputId": "7790f2e7-f5a4-40d6-a5f9-418e18a82ffb"
      },
      "source": [
        "# Create a variable called x_projection and set it equal to the last n rows of data from the original dataset\n",
        "x_projection = np.array(df[['Close']])[-projection:]\n",
        "print(x_projection)"
      ],
      "execution_count": 53,
      "outputs": [
        {
          "output_type": "stream",
          "text": [
            "[[131.86999512]\n",
            " [135.61000061]\n",
            " [134.6499939 ]\n",
            " [129.08000183]\n",
            " [128.16000366]\n",
            " [129.1000061 ]\n",
            " [128.05000305]\n",
            " [126.66999817]\n",
            " [126.16999817]\n",
            " [127.16999817]\n",
            " [124.94999695]\n",
            " [125.40000153]\n",
            " [125.44999695]\n",
            " [125.30000305]]\n"
          ],
          "name": "stdout"
        }
      ]
    },
    {
      "cell_type": "code",
      "metadata": {
        "colab": {
          "base_uri": "https://localhost:8080/"
        },
        "id": "gMmFPZ6CZpOp",
        "outputId": "9a52cfcb-2849-4fdd-a34f-4c371c432d1d"
      },
      "source": [
        "# Print the linear regression model predictions for the next n days\n",
        "linReg_prediction = linReg.predict(x_projection)\n",
        "print(linReg_prediction)"
      ],
      "execution_count": 54,
      "outputs": [
        {
          "output_type": "stream",
          "text": [
            "[131.92382171 135.47305122 134.56201401 129.27614471 128.40307523\n",
            " 129.29512857 128.2986857  126.98907424 126.51457901 127.46356947\n",
            " 125.3568095  125.78385955 125.83130473 125.68896195]\n"
          ],
          "name": "stdout"
        }
      ]
    }
  ]
}